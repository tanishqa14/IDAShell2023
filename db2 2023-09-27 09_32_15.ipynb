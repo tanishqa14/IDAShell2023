{
 "cells": [
  {
   "cell_type": "code",
   "execution_count": 0,
   "metadata": {
    "application/vnd.databricks.v1+cell": {
     "cellMetadata": {
      "byteLimit": 2048000,
      "rowLimit": 10000
     },
     "inputWidgets": {},
     "nuid": "4ed32a0e-eeef-41f4-a06b-6fdf80dba1a9",
     "showTitle": false,
     "title": ""
    }
   },
   "outputs": [
    {
     "output_type": "execute_result",
     "data": {
      "text/html": [
       "\n",
       "            <div>\n",
       "                <p><b>SparkSession - hive</b></p>\n",
       "                \n",
       "        <div>\n",
       "            <p><b>SparkContext</b></p>\n",
       "\n",
       "            <p><a href=\"/?o=3856910989773611#setting/sparkui/0927-034524-a22eaxe2/driver-4158026837174768352\">Spark UI</a></p>\n",
       "\n",
       "            <dl>\n",
       "              <dt>Version</dt>\n",
       "                <dd><code>v3.4.1</code></dd>\n",
       "              <dt>Master</dt>\n",
       "                <dd><code>local[*, 4]</code></dd>\n",
       "              <dt>AppName</dt>\n",
       "                <dd><code>Databricks Shell</code></dd>\n",
       "            </dl>\n",
       "        </div>\n",
       "        \n",
       "            </div>\n",
       "        "
      ],
      "text/plain": [
       "<pyspark.sql.session.SparkSession at 0x7f1eb8963c40>"
      ]
     },
     "execution_count": 4,
     "metadata": {},
     "output_type": "execute_result"
    }
   ],
   "source": [
    "#/FileStore/tables/peoplesdata.csv\n",
    "spark"
   ]
  },
  {
   "cell_type": "code",
   "execution_count": 0,
   "metadata": {
    "application/vnd.databricks.v1+cell": {
     "cellMetadata": {
      "byteLimit": 2048000,
      "rowLimit": 10000
     },
     "inputWidgets": {},
     "nuid": "09a82d20-7679-4e3a-b3bd-a07af2c55f76",
     "showTitle": false,
     "title": ""
    }
   },
   "outputs": [],
   "source": [
    "\n",
    "# Load data from the Delta table\n",
    "df = spark.read.csv(\"/FileStore/tables/peoplesdata.csv\",header=True,inferSchema=True)\n",
    "\n",
    "# Now you can work with the DataFrame 'df'\n"
   ]
  },
  {
   "cell_type": "code",
   "execution_count": 0,
   "metadata": {
    "application/vnd.databricks.v1+cell": {
     "cellMetadata": {
      "byteLimit": 2048000,
      "rowLimit": 10000
     },
     "inputWidgets": {},
     "nuid": "d8fa31c5-2de0-4c9b-9c83-bf8edd0f8b51",
     "showTitle": false,
     "title": ""
    }
   },
   "outputs": [
    {
     "output_type": "stream",
     "name": "stdout",
     "output_type": "stream",
     "text": [
      "+-----+---------------+----------+---------+------+--------------------+--------------------+-------------+--------------------+\n|Index|        User Id|First Name|Last Name|   Sex|               Email|               Phone|Date of birth|           Job Title|\n+-----+---------------+----------+---------+------+--------------------+--------------------+-------------+--------------------+\n|    1|88F7B33d2bcf9f5|    Shelby|  Terrell|  Male|elijah57@example.net|001-084-906-7849x...|   1945-10-26|     Games developer|\n|    2|f90cD3E76f1A9b9|   Phillip|  Summers|Female|bethany14@example...|   214.112.6044x4913|   1910-03-24|      Phytotherapist|\n|    3|DbeAb8CcdfeFC2c|  Kristine|   Travis|  Male|bthompson@example...|        277.609.7938|   1992-07-02|           Homeopath|\n|    4|A31Bee3c201ef58|   Yesenia| Martinez|  Male|kaitlinkaiser@exa...|        584.094.6111|   2017-08-03|   Market researcher|\n|    5|1bA7A3dc874da3c|      Lori|     Todd|  Male|buchananmanuel@ex...|   689-207-3558x7233|   1938-12-01|  Veterinary surgeon|\n|    6|bfDD7CDEF5D865B|      Erin|      Day|  Male| tconner@example.org|001-171-649-9856x...|   2015-10-28|Waste management ...|\n|    7|bE9EEf34cB72AF7| Katherine|     Buck|Female|conniecowan@examp...|+1-773-151-6685x4...|   1989-01-22|Intelligence analyst|\n|    8|2EFC6A4e77FaEaC|   Ricardo|   Hinton|  Male|wyattbishop@examp...|001-447-699-7998x...|   1924-03-26|      Hydrogeologist|\n|    9|baDcC4DeefD8dEB|      Dave|  Farrell|  Male| nmccann@example.net|  603-428-2429x27392|   2018-10-06|              Lawyer|\n|   10|8e4FB470FE19bF0|    Isaiah|    Downs|  Male|virginiaterrell@e...|+1-511-372-1544x8206|   1964-09-20|      Engineer, site|\n|   11|BF0BbA03C29Bb3b|    Sheila|     Ross|Female|huangcathy@exampl...|        895.881.4746|   2008-03-20|Advertising accou...|\n|   12|F738c69fB34E62E|     Stacy|   Newton|  Male|rayleroy@example.org|  710.673.3213x80335|   1980-10-20|       Warden/ranger|\n|   13|C03fDADdAadAdCe|     Mandy|    Blake|  Male|jefferynoble@exam...|  (992)466-1305x4947|   2007-12-08|Scientist, clinic...|\n|   14|b759b74BD1dE80d|   Bridget|     Nash|Female|mercedes44@exampl...|       (216)627-8359|   2004-06-28|       Social worker|\n|   15|1F0B7D65A00DAF9|   Crystal|   Farmer|  Male|pmiranda@example.org|     +1-024-377-5391|   1992-03-09|Agricultural cons...|\n|   16|50Bb061cB30B461|    Thomas|   Knight|Female|braunpriscilla@ex...|     +1-360-880-0766|   2006-02-18|Sport and exercis...|\n|   17|D6dbA5308fEC4BC|   Maurice|   Rangel|  Male|sheenabanks@examp...|       (246)187-4969|   2004-08-20|Secretary/adminis...|\n|   18|311D775990f066d|     Frank|  Meadows|  Male| gbrewer@example.org|   429.965.3902x4447|   2008-09-16|Audiological scie...|\n|   19|7F7E1BAcb0C9AFf|     Alvin|     Paul|  Male|gilbertdonaldson@...|  219.436.0887x07551|   1949-05-12|Teacher, adult ed...|\n|   20|88473e15D5c3cD0|     Jared| Mitchell|Female| jcortez@example.com|     +1-958-849-6781|   1921-01-18|    Paediatric nurse|\n+-----+---------------+----------+---------+------+--------------------+--------------------+-------------+--------------------+\nonly showing top 20 rows\n\n"
     ]
    }
   ],
   "source": [
    "df.show()"
   ]
  },
  {
   "cell_type": "code",
   "execution_count": 0,
   "metadata": {
    "application/vnd.databricks.v1+cell": {
     "cellMetadata": {
      "byteLimit": 2048000,
      "rowLimit": 10000
     },
     "inputWidgets": {},
     "nuid": "c2148381-7df9-4083-991b-161d90266af2",
     "showTitle": false,
     "title": ""
    }
   },
   "outputs": [
    {
     "output_type": "stream",
     "name": "stdout",
     "output_type": "stream",
     "text": [
      "azure  conf  eventlogs\thadoop_accessed_config.lst  logs  preload_class.lst\r\n"
     ]
    }
   ],
   "source": [
    "!ls"
   ]
  },
  {
   "cell_type": "code",
   "execution_count": 0,
   "metadata": {
    "application/vnd.databricks.v1+cell": {
     "cellMetadata": {
      "byteLimit": 2048000,
      "rowLimit": 10000
     },
     "inputWidgets": {},
     "nuid": "b8641eaf-b076-4ecd-90ca-17f23bccda2a",
     "showTitle": false,
     "title": ""
    }
   },
   "outputs": [],
   "source": [
    "!cd azure"
   ]
  },
  {
   "cell_type": "code",
   "execution_count": 0,
   "metadata": {
    "application/vnd.databricks.v1+cell": {
     "cellMetadata": {
      "byteLimit": 2048000,
      "rowLimit": 10000
     },
     "inputWidgets": {},
     "nuid": "3785ca0e-9340-4a23-aed0-927b84374810",
     "showTitle": false,
     "title": ""
    }
   },
   "outputs": [
    {
     "output_type": "stream",
     "name": "stdout",
     "output_type": "stream",
     "text": [
      "azure  conf  eventlogs\thadoop_accessed_config.lst  logs  preload_class.lst\r\n"
     ]
    }
   ],
   "source": []
  },
  {
   "cell_type": "code",
   "execution_count": 0,
   "metadata": {
    "application/vnd.databricks.v1+cell": {
     "cellMetadata": {
      "byteLimit": 2048000,
      "rowLimit": 10000
     },
     "inputWidgets": {},
     "nuid": "7064f0ff-56df-472b-89da-5d3f86a2fc90",
     "showTitle": false,
     "title": ""
    }
   },
   "outputs": [
    {
     "output_type": "display_data",
     "data": {
      "text/html": [
       "<div class = \"ansiout\">\n",
       "This module provides various utilities for users to interact with the rest of Databricks.\n",
       "  <h3></h3><b>credentials: DatabricksCredentialUtils</b> -> Utilities for interacting with credentials within notebooks<br /><b>data: DataUtils</b> -> Utilities for understanding and interacting with datasets (EXPERIMENTAL)<br /><b>fs: DbfsUtils</b> -> Manipulates the Databricks filesystem (DBFS) from the console<br /><b>jobs: JobsUtils</b> -> Utilities for leveraging jobs features<br /><b>library: LibraryUtils</b> -> Utilities for session isolated libraries<br /><b>meta: MetaUtils</b> -> Methods to hook into the compiler (EXPERIMENTAL)<br /><b>notebook: NotebookUtils</b> -> Utilities for the control flow of a notebook (EXPERIMENTAL)<br /><b>preview: Preview</b> -> Utilities under preview category<br /><b>secrets: SecretUtils</b> -> Provides utilities for leveraging secrets within notebooks<br /><b>widgets: WidgetsUtils</b> -> Methods to create and get bound value of input widgets inside notebooks<br /><br /></div>"
      ]
     },
     "metadata": {},
     "output_type": "display_data"
    }
   ],
   "source": [
    "dbutils.help()"
   ]
  },
  {
   "cell_type": "code",
   "execution_count": 0,
   "metadata": {
    "application/vnd.databricks.v1+cell": {
     "cellMetadata": {
      "byteLimit": 2048000,
      "rowLimit": 10000
     },
     "inputWidgets": {},
     "nuid": "450cea4a-e295-4b2e-83c1-67e1d802646b",
     "showTitle": false,
     "title": ""
    }
   },
   "outputs": [
    {
     "output_type": "display_data",
     "data": {
      "text/html": [
       "<div class = \"ansiout\"><b>dbutils.fs</b> provides utilities for working with FileSystems. Most methods in\n",
       "this package can take either a DBFS path (e.g., \"/foo\" or \"dbfs:/foo\"), or\n",
       "another FileSystem URI.\n",
       "\n",
       "For more info about a method, use <b>dbutils.fs.help(\"methodName\")</b>.\n",
       "\n",
       "In notebooks, you can also use the %fs shorthand to access DBFS. The %fs shorthand maps\n",
       "straightforwardly onto dbutils calls. For example, \"%fs head --maxBytes=10000 /file/path\"\n",
       "translates into \"dbutils.fs.head(\"/file/path\", maxBytes = 10000)\".\n",
       "    <h3>mount</h3><b>mount(source: String, mountPoint: String, encryptionType: String = \"\", owner: String = null, extraConfigs: Map = Map.empty[String, String]): boolean</b> -> Mounts the given source directory into DBFS at the given mount point<br /><b>mounts: Seq</b> -> Displays information about what is mounted within DBFS<br /><b>refreshMounts: boolean</b> -> Forces all machines in this cluster to refresh their mount cache, ensuring they receive the most recent information<br /><b>unmount(mountPoint: String): boolean</b> -> Deletes a DBFS mount point<br /><b>updateMount(source: String, mountPoint: String, encryptionType: String = \"\", owner: String = null, extraConfigs: Map = Map.empty[String, String]): boolean</b> -> Similar to mount(), but updates an existing mount point (if present) instead of creating a new one<br /><br /><h3>fsutils</h3><b>cp(from: String, to: String, recurse: boolean = false): boolean</b> -> Copies a file or directory, possibly across FileSystems<br /><b>head(file: String, maxBytes: int = 65536): String</b> -> Returns up to the first 'maxBytes' bytes of the given file as a String encoded in UTF-8<br /><b>ls(dir: String): Seq</b> -> Lists the contents of a directory<br /><b>mkdirs(dir: String): boolean</b> -> Creates the given directory if it does not exist, also creating any necessary parent directories<br /><b>mv(from: String, to: String, recurse: boolean = false): boolean</b> -> Moves a file or directory, possibly across FileSystems<br /><b>put(file: String, contents: String, overwrite: boolean = false): boolean</b> -> Writes the given String out to a file, encoded in UTF-8<br /><b>rm(dir: String, recurse: boolean = false): boolean</b> -> Removes a file or directory<br /><br /></div>"
      ]
     },
     "metadata": {},
     "output_type": "display_data"
    }
   ],
   "source": [
    "dbutils.fs.help()"
   ]
  },
  {
   "cell_type": "code",
   "execution_count": 0,
   "metadata": {
    "application/vnd.databricks.v1+cell": {
     "cellMetadata": {
      "byteLimit": 2048000,
      "rowLimit": 10000
     },
     "inputWidgets": {},
     "nuid": "38104665-baeb-4292-be43-fcaed9ea7c4c",
     "showTitle": false,
     "title": ""
    }
   },
   "outputs": [
    {
     "output_type": "display_data",
     "data": {
      "text/html": [
       "<div class = \"ansiout\">/**<br /> * Displays information about what is mounted within DBFS. The returned information includes<br /> * the mount point, source directory, and encryption type. Any credentials used to mount the<br /> * mount points listed will not be displayed.<br /> * <br /> * Example:<br /> *   display(mounts())<br /> * <br /> * @return Ordered sequence of MountInfos containing the mount point, the source of every<br /> *         mount, and the encryption type of that mount, if present.<br /> */<br /><b>mounts: scala.collection.Seq</b></div><br />"
      ]
     },
     "metadata": {},
     "output_type": "display_data"
    }
   ],
   "source": [
    "dbutils.fs.help(\"mounts\")"
   ]
  },
  {
   "cell_type": "code",
   "execution_count": 0,
   "metadata": {
    "application/vnd.databricks.v1+cell": {
     "cellMetadata": {
      "byteLimit": 2048000,
      "rowLimit": 10000
     },
     "inputWidgets": {},
     "nuid": "6fb7632c-9a49-4a33-9bc7-6f72d24afe8f",
     "showTitle": false,
     "title": ""
    }
   },
   "outputs": [
    {
     "output_type": "execute_result",
     "data": {
      "text/plain": [
       "[FileInfo(path='dbfs:/FileStore/', name='FileStore/', size=0, modificationTime=1695787357000),\n",
       " FileInfo(path='dbfs:/Volume/', name='Volume/', size=0, modificationTime=0),\n",
       " FileInfo(path='dbfs:/Volumes/', name='Volumes/', size=0, modificationTime=0),\n",
       " FileInfo(path='dbfs:/databricks-datasets/', name='databricks-datasets/', size=0, modificationTime=0),\n",
       " FileInfo(path='dbfs:/databricks-results/', name='databricks-results/', size=0, modificationTime=0),\n",
       " FileInfo(path='dbfs:/user/', name='user/', size=0, modificationTime=1695786666000),\n",
       " FileInfo(path='dbfs:/volume/', name='volume/', size=0, modificationTime=0),\n",
       " FileInfo(path='dbfs:/volumes/', name='volumes/', size=0, modificationTime=0)]"
      ]
     },
     "execution_count": 20,
     "metadata": {},
     "output_type": "execute_result"
    }
   ],
   "source": [
    "dbutils.fs.ls(\"/\")"
   ]
  },
  {
   "cell_type": "code",
   "execution_count": 0,
   "metadata": {
    "application/vnd.databricks.v1+cell": {
     "cellMetadata": {
      "byteLimit": 2048000,
      "rowLimit": 10000
     },
     "inputWidgets": {},
     "nuid": "2a291600-b96e-44e6-856f-90f82df863a9",
     "showTitle": false,
     "title": ""
    }
   },
   "outputs": [
    {
     "output_type": "execute_result",
     "data": {
      "text/plain": [
       "[FileInfo(path='dbfs:/FileStore/tables/peoplesdata.csv', name='peoplesdata.csv', size=11425, modificationTime=1695787357000)]"
      ]
     },
     "execution_count": 23,
     "metadata": {},
     "output_type": "execute_result"
    }
   ],
   "source": [
    "dbutils.fs.ls(\"/FileStore/tables/peoplesdata.csv\")"
   ]
  },
  {
   "cell_type": "code",
   "execution_count": 0,
   "metadata": {
    "application/vnd.databricks.v1+cell": {
     "cellMetadata": {
      "byteLimit": 2048000,
      "rowLimit": 10000
     },
     "inputWidgets": {},
     "nuid": "2ed8a1fa-42ca-463b-bacf-e4ad5f23ddc0",
     "showTitle": false,
     "title": ""
    }
   },
   "outputs": [
    {
     "output_type": "display_data",
     "data": {
      "text/html": [
       "<div class = \"ansiout\">/**<br /> * Creates the given directory if it does not exist, also creating any necessary parent<br /> * directories.<br /> * <br /> * Example: mkdirs(\"/mnt/my-folder/a/b/c\")<br /> * <br /> * @param dir FileSystem URI<br /> * @return true if the directory was successfully created<br /> */<br /><b>mkdirs(dir: java.lang.String): boolean</b></div><br />"
      ]
     },
     "metadata": {},
     "output_type": "display_data"
    }
   ],
   "source": [
    "dbutils.fs.help(\"mkdirs\")"
   ]
  },
  {
   "cell_type": "code",
   "execution_count": 0,
   "metadata": {
    "application/vnd.databricks.v1+cell": {
     "cellMetadata": {
      "byteLimit": 2048000,
      "rowLimit": 10000
     },
     "inputWidgets": {},
     "nuid": "0ba9019a-67aa-4796-8469-7ddae3a0e860",
     "showTitle": false,
     "title": ""
    }
   },
   "outputs": [
    {
     "output_type": "execute_result",
     "data": {
      "text/plain": [
       "True"
      ]
     },
     "execution_count": 25,
     "metadata": {},
     "output_type": "execute_result"
    }
   ],
   "source": [
    "dbutils.fs.mkdirs(\"/FileStore/tables/dbfolder\")"
   ]
  },
  {
   "cell_type": "code",
   "execution_count": 0,
   "metadata": {
    "application/vnd.databricks.v1+cell": {
     "cellMetadata": {
      "byteLimit": 2048000,
      "rowLimit": 10000
     },
     "inputWidgets": {},
     "nuid": "14b12ee9-8202-4b94-a438-9e75441318aa",
     "showTitle": false,
     "title": ""
    }
   },
   "outputs": [
    {
     "output_type": "stream",
     "name": "stdout",
     "output_type": "stream",
     "text": [
      "Wrote 45 bytes.\n"
     ]
    },
    {
     "output_type": "execute_result",
     "data": {
      "text/plain": [
       "True"
      ]
     },
     "execution_count": 27,
     "metadata": {},
     "output_type": "execute_result"
    }
   ],
   "source": [
    "strcontents=\"\"\"\n",
    "Welcome to \\n pyspark databricks\n",
    "environment\n",
    "\"\"\"\n",
    "dbutils.fs.put(\"/FileStore/tables/dbfolder/a.txt\",strcontents)"
   ]
  },
  {
   "cell_type": "code",
   "execution_count": 0,
   "metadata": {
    "application/vnd.databricks.v1+cell": {
     "cellMetadata": {
      "byteLimit": 2048000,
      "rowLimit": 10000
     },
     "inputWidgets": {},
     "nuid": "8625c78e-f943-4ccd-9b5f-bf3472df8ac8",
     "showTitle": false,
     "title": ""
    }
   },
   "outputs": [
    {
     "output_type": "display_data",
     "data": {
      "text/html": [
       "<style scoped>\n",
       "  .table-result-container {\n",
       "    max-height: 300px;\n",
       "    overflow: auto;\n",
       "  }\n",
       "  table, th, td {\n",
       "    border: 1px solid black;\n",
       "    border-collapse: collapse;\n",
       "  }\n",
       "  th, td {\n",
       "    padding: 5px;\n",
       "  }\n",
       "  th {\n",
       "    text-align: left;\n",
       "  }\n",
       "</style><div class='table-result-container'><table class='table-result'><thead style='background-color: white'><tr><th>path</th><th>name</th><th>size</th><th>modificationTime</th></tr></thead><tbody><tr><td>dbfs:/databricks-datasets/learning-spark-v2/people/people-10m.delta/_delta_log/</td><td>_delta_log/</td><td>0</td><td>1695789715279</td></tr><tr><td>dbfs:/databricks-datasets/learning-spark-v2/people/people-10m.delta/part-00000-373539c8-e620-43e4-82e0-5eba22bb3b77-c000.snappy.parquet</td><td>part-00000-373539c8-e620-43e4-82e0-5eba22bb3b77-c000.snappy.parquet</td><td>27825521</td><td>1602178938000</td></tr><tr><td>dbfs:/databricks-datasets/learning-spark-v2/people/people-10m.delta/part-00000-5e15f637-db75-425a-bc10-7af4bf04d7f1-c000.snappy.parquet</td><td>part-00000-5e15f637-db75-425a-bc10-7af4bf04d7f1-c000.snappy.parquet</td><td>27780910</td><td>1602107106000</td></tr><tr><td>dbfs:/databricks-datasets/learning-spark-v2/people/people-10m.delta/part-00001-7ce85220-3ce6-4f30-bde3-9a05fbcdc424-c000.snappy.parquet</td><td>part-00001-7ce85220-3ce6-4f30-bde3-9a05fbcdc424-c000.snappy.parquet</td><td>27734182</td><td>1602107106000</td></tr><tr><td>dbfs:/databricks-datasets/learning-spark-v2/people/people-10m.delta/part-00001-943ebb93-8446-4a6c-99f7-1ca12ec2511b-c000.snappy.parquet</td><td>part-00001-943ebb93-8446-4a6c-99f7-1ca12ec2511b-c000.snappy.parquet</td><td>27781558</td><td>1602178938000</td></tr><tr><td>dbfs:/databricks-datasets/learning-spark-v2/people/people-10m.delta/part-00002-078d8630-60a4-48a0-9d10-44fd8a173b87-c000.snappy.parquet</td><td>part-00002-078d8630-60a4-48a0-9d10-44fd8a173b87-c000.snappy.parquet</td><td>27734188</td><td>1602178938000</td></tr><tr><td>dbfs:/databricks-datasets/learning-spark-v2/people/people-10m.delta/part-00002-89e6d24b-94c8-4e84-8dd5-12b14ca26615-c000.snappy.parquet</td><td>part-00002-89e6d24b-94c8-4e84-8dd5-12b14ca26615-c000.snappy.parquet</td><td>27781560</td><td>1602107106000</td></tr><tr><td>dbfs:/databricks-datasets/learning-spark-v2/people/people-10m.delta/part-00003-315a65b7-33f8-4ade-9333-b7a27f7878fd-c000.snappy.parquet</td><td>part-00003-315a65b7-33f8-4ade-9333-b7a27f7878fd-c000.snappy.parquet</td><td>27735048</td><td>1602178939000</td></tr><tr><td>dbfs:/databricks-datasets/learning-spark-v2/people/people-10m.delta/part-00003-cbfb2b8d-a130-42f8-88ce-e9317d796959-c000.snappy.parquet</td><td>part-00003-cbfb2b8d-a130-42f8-88ce-e9317d796959-c000.snappy.parquet</td><td>27734190</td><td>1602107106000</td></tr><tr><td>dbfs:/databricks-datasets/learning-spark-v2/people/people-10m.delta/part-00004-4403dea5-fbb8-4b6e-8d29-755d646706b4-c000.snappy.parquet</td><td>part-00004-4403dea5-fbb8-4b6e-8d29-755d646706b4-c000.snappy.parquet</td><td>28172443</td><td>1602107106000</td></tr><tr><td>dbfs:/databricks-datasets/learning-spark-v2/people/people-10m.delta/part-00004-854d48c2-cfbf-4e02-9932-edba227c525d-c000.snappy.parquet</td><td>part-00004-854d48c2-cfbf-4e02-9932-edba227c525d-c000.snappy.parquet</td><td>28172441</td><td>1602178939000</td></tr><tr><td>dbfs:/databricks-datasets/learning-spark-v2/people/people-10m.delta/part-00005-3d084889-621d-4800-8c24-be6ce540ed8b-c000.snappy.parquet</td><td>part-00005-3d084889-621d-4800-8c24-be6ce540ed8b-c000.snappy.parquet</td><td>27780908</td><td>1602178941000</td></tr><tr><td>dbfs:/databricks-datasets/learning-spark-v2/people/people-10m.delta/part-00005-83ad6e0a-7069-4fa2-92dd-dd2e0624800c-c000.snappy.parquet</td><td>part-00005-83ad6e0a-7069-4fa2-92dd-dd2e0624800c-c000.snappy.parquet</td><td>26481810</td><td>1602107106000</td></tr><tr><td>dbfs:/databricks-datasets/learning-spark-v2/people/people-10m.delta/part-00006-aa52f259-f2af-494a-b4ae-5ef02b2f0961-c000.snappy.parquet</td><td>part-00006-aa52f259-f2af-494a-b4ae-5ef02b2f0961-c000.snappy.parquet</td><td>27825523</td><td>1602107108000</td></tr><tr><td>dbfs:/databricks-datasets/learning-spark-v2/people/people-10m.delta/part-00006-dfdaedf2-5cb9-4ad5-9b11-1a88e962b76d-c000.snappy.parquet</td><td>part-00006-dfdaedf2-5cb9-4ad5-9b11-1a88e962b76d-c000.snappy.parquet</td><td>27734180</td><td>1602178941000</td></tr><tr><td>dbfs:/databricks-datasets/learning-spark-v2/people/people-10m.delta/part-00007-b2b4b3b3-fc2d-4c9c-a7df-2059d2535ff4-c000.snappy.parquet</td><td>part-00007-b2b4b3b3-fc2d-4c9c-a7df-2059d2535ff4-c000.snappy.parquet</td><td>26481808</td><td>1602178941000</td></tr><tr><td>dbfs:/databricks-datasets/learning-spark-v2/people/people-10m.delta/part-00007-e62de2a1-07d4-4ece-85bb-c861e35cc91b-c000.snappy.parquet</td><td>part-00007-e62de2a1-07d4-4ece-85bb-c861e35cc91b-c000.snappy.parquet</td><td>27735050</td><td>1602107108000</td></tr></tbody></table></div>"
      ]
     },
     "metadata": {
      "application/vnd.databricks.v1+output": {
       "addedWidgets": {},
       "aggData": [],
       "aggError": "",
       "aggOverflow": false,
       "aggSchema": [],
       "aggSeriesLimitReached": false,
       "aggType": "",
       "arguments": {},
       "columnCustomDisplayInfos": {},
       "data": [
        [
         "dbfs:/databricks-datasets/learning-spark-v2/people/people-10m.delta/_delta_log/",
         "_delta_log/",
         0,
         1695789715279
        ],
        [
         "dbfs:/databricks-datasets/learning-spark-v2/people/people-10m.delta/part-00000-373539c8-e620-43e4-82e0-5eba22bb3b77-c000.snappy.parquet",
         "part-00000-373539c8-e620-43e4-82e0-5eba22bb3b77-c000.snappy.parquet",
         27825521,
         1602178938000
        ],
        [
         "dbfs:/databricks-datasets/learning-spark-v2/people/people-10m.delta/part-00000-5e15f637-db75-425a-bc10-7af4bf04d7f1-c000.snappy.parquet",
         "part-00000-5e15f637-db75-425a-bc10-7af4bf04d7f1-c000.snappy.parquet",
         27780910,
         1602107106000
        ],
        [
         "dbfs:/databricks-datasets/learning-spark-v2/people/people-10m.delta/part-00001-7ce85220-3ce6-4f30-bde3-9a05fbcdc424-c000.snappy.parquet",
         "part-00001-7ce85220-3ce6-4f30-bde3-9a05fbcdc424-c000.snappy.parquet",
         27734182,
         1602107106000
        ],
        [
         "dbfs:/databricks-datasets/learning-spark-v2/people/people-10m.delta/part-00001-943ebb93-8446-4a6c-99f7-1ca12ec2511b-c000.snappy.parquet",
         "part-00001-943ebb93-8446-4a6c-99f7-1ca12ec2511b-c000.snappy.parquet",
         27781558,
         1602178938000
        ],
        [
         "dbfs:/databricks-datasets/learning-spark-v2/people/people-10m.delta/part-00002-078d8630-60a4-48a0-9d10-44fd8a173b87-c000.snappy.parquet",
         "part-00002-078d8630-60a4-48a0-9d10-44fd8a173b87-c000.snappy.parquet",
         27734188,
         1602178938000
        ],
        [
         "dbfs:/databricks-datasets/learning-spark-v2/people/people-10m.delta/part-00002-89e6d24b-94c8-4e84-8dd5-12b14ca26615-c000.snappy.parquet",
         "part-00002-89e6d24b-94c8-4e84-8dd5-12b14ca26615-c000.snappy.parquet",
         27781560,
         1602107106000
        ],
        [
         "dbfs:/databricks-datasets/learning-spark-v2/people/people-10m.delta/part-00003-315a65b7-33f8-4ade-9333-b7a27f7878fd-c000.snappy.parquet",
         "part-00003-315a65b7-33f8-4ade-9333-b7a27f7878fd-c000.snappy.parquet",
         27735048,
         1602178939000
        ],
        [
         "dbfs:/databricks-datasets/learning-spark-v2/people/people-10m.delta/part-00003-cbfb2b8d-a130-42f8-88ce-e9317d796959-c000.snappy.parquet",
         "part-00003-cbfb2b8d-a130-42f8-88ce-e9317d796959-c000.snappy.parquet",
         27734190,
         1602107106000
        ],
        [
         "dbfs:/databricks-datasets/learning-spark-v2/people/people-10m.delta/part-00004-4403dea5-fbb8-4b6e-8d29-755d646706b4-c000.snappy.parquet",
         "part-00004-4403dea5-fbb8-4b6e-8d29-755d646706b4-c000.snappy.parquet",
         28172443,
         1602107106000
        ],
        [
         "dbfs:/databricks-datasets/learning-spark-v2/people/people-10m.delta/part-00004-854d48c2-cfbf-4e02-9932-edba227c525d-c000.snappy.parquet",
         "part-00004-854d48c2-cfbf-4e02-9932-edba227c525d-c000.snappy.parquet",
         28172441,
         1602178939000
        ],
        [
         "dbfs:/databricks-datasets/learning-spark-v2/people/people-10m.delta/part-00005-3d084889-621d-4800-8c24-be6ce540ed8b-c000.snappy.parquet",
         "part-00005-3d084889-621d-4800-8c24-be6ce540ed8b-c000.snappy.parquet",
         27780908,
         1602178941000
        ],
        [
         "dbfs:/databricks-datasets/learning-spark-v2/people/people-10m.delta/part-00005-83ad6e0a-7069-4fa2-92dd-dd2e0624800c-c000.snappy.parquet",
         "part-00005-83ad6e0a-7069-4fa2-92dd-dd2e0624800c-c000.snappy.parquet",
         26481810,
         1602107106000
        ],
        [
         "dbfs:/databricks-datasets/learning-spark-v2/people/people-10m.delta/part-00006-aa52f259-f2af-494a-b4ae-5ef02b2f0961-c000.snappy.parquet",
         "part-00006-aa52f259-f2af-494a-b4ae-5ef02b2f0961-c000.snappy.parquet",
         27825523,
         1602107108000
        ],
        [
         "dbfs:/databricks-datasets/learning-spark-v2/people/people-10m.delta/part-00006-dfdaedf2-5cb9-4ad5-9b11-1a88e962b76d-c000.snappy.parquet",
         "part-00006-dfdaedf2-5cb9-4ad5-9b11-1a88e962b76d-c000.snappy.parquet",
         27734180,
         1602178941000
        ],
        [
         "dbfs:/databricks-datasets/learning-spark-v2/people/people-10m.delta/part-00007-b2b4b3b3-fc2d-4c9c-a7df-2059d2535ff4-c000.snappy.parquet",
         "part-00007-b2b4b3b3-fc2d-4c9c-a7df-2059d2535ff4-c000.snappy.parquet",
         26481808,
         1602178941000
        ],
        [
         "dbfs:/databricks-datasets/learning-spark-v2/people/people-10m.delta/part-00007-e62de2a1-07d4-4ece-85bb-c861e35cc91b-c000.snappy.parquet",
         "part-00007-e62de2a1-07d4-4ece-85bb-c861e35cc91b-c000.snappy.parquet",
         27735050,
         1602107108000
        ]
       ],
       "datasetInfos": [],
       "dbfsResultPath": null,
       "isJsonSchema": true,
       "metadata": {
        "isDbfsCommandResult": false
       },
       "overflow": false,
       "plotOptions": {
        "customPlotOptions": {},
        "displayType": "table",
        "pivotAggregation": null,
        "pivotColumns": null,
        "xColumns": null,
        "yColumns": null
       },
       "removedWidgets": [],
       "schema": [
        {
         "metadata": "{}",
         "name": "path",
         "type": "\"string\""
        },
        {
         "metadata": "{}",
         "name": "name",
         "type": "\"string\""
        },
        {
         "metadata": "{}",
         "name": "size",
         "type": "\"long\""
        },
        {
         "metadata": "{}",
         "name": "modificationTime",
         "type": "\"long\""
        }
       ],
       "type": "table"
      }
     },
     "output_type": "display_data"
    }
   ],
   "source": [
    "%fs ls /databricks-datasets/learning-spark-v2/people/people-10m.delta"
   ]
  },
  {
   "cell_type": "code",
   "execution_count": 0,
   "metadata": {
    "application/vnd.databricks.v1+cell": {
     "cellMetadata": {
      "byteLimit": 2048000,
      "rowLimit": 10000
     },
     "inputWidgets": {},
     "nuid": "67bad470-95a4-4231-ba1a-e8a19ec51ca9",
     "showTitle": false,
     "title": ""
    }
   },
   "outputs": [],
   "source": [
    "\n",
    "format=\"delta\"\n",
    "url=\"/databricks-datasets/learning-spark-v2/people/people-10m.delta\"\n",
    "dbutils.fs.ls(url)\n",
    "dfpeople=spark.read.format(format).load(url)"
   ]
  },
  {
   "cell_type": "code",
   "execution_count": 0,
   "metadata": {
    "application/vnd.databricks.v1+cell": {
     "cellMetadata": {
      "byteLimit": 2048000,
      "rowLimit": 10000
     },
     "inputWidgets": {},
     "nuid": "ce54e8a9-8d4a-400b-8b7d-ed037b9b2a61",
     "showTitle": false,
     "title": ""
    }
   },
   "outputs": [
    {
     "output_type": "stream",
     "name": "stdout",
     "output_type": "stream",
     "text": [
      "+-------+---------+----------+---------+------+-------------------+-----------+------+\n|     id|firstName|middleName| lastName|gender|          birthDate|        ssn|salary|\n+-------+---------+----------+---------+------+-------------------+-----------+------+\n|3766824|   Hisako|  Isabella|Malitrott|     F|1961-02-12 05:00:00|938-80-1874| 58862|\n|3766825|    Daisy|   Merissa|   Fibben|     F|1998-05-19 04:00:00|971-14-3755| 66221|\n|3766826|    Caren|   Blossom|   Henner|     F|1962-08-06 04:00:00|954-19-8973| 54376|\n|3766827|  Darleen|    Gertie|Goodinson|     F|1980-03-12 05:00:00|981-65-5269| 69954|\n|3766828|     Kyle|        Lu|   Habben|     F|1974-02-15 04:00:00|936-95-3240| 56681|\n|3766829|    Melia|    Kristy|  Bonhill|     F|1970-09-13 04:00:00|960-91-9232| 73995|\n|3766830|  Yevette|      Faye|  Bebbell|     F|1972-09-07 04:00:00|987-72-3701| 92888|\n|3766831|   Delpha|   Kenisha| Gillison|     F|1979-06-25 04:00:00|962-66-5404| 51206|\n|3766832|  Mikaela|   Jenifer|   Hallan|     F|1973-05-23 04:00:00|911-38-3114| 98887|\n|3766833|    Cindi|    Renita|   Cousin|     F|1979-03-19 05:00:00|666-50-3216| 63646|\n|3766834|   Rosana|      Sari|  Griston|     F|1956-10-25 04:00:00|998-70-9023| 19255|\n|3766835|    Leena|    Vanita|  Cajkler|     F|1971-08-15 04:00:00|954-81-8367| 74760|\n|3766836| Eleonore|  Stephany| Goldhill|     F|1987-12-15 05:00:00|978-64-1528| 67942|\n|3766837|     Olga|      Jona|     Klos|     F|1978-05-26 04:00:00|961-27-8570| 52484|\n|3766838|  Chandra|  Sherrill|   Kelsey|     F|1962-11-18 05:00:00|910-53-2697| 65929|\n|3766839|    Vania|    Lashon|   Clixby|     F|1975-10-31 05:00:00|985-43-1411| 73756|\n|3766840|   Dagmar|     Misti|    Poole|     F|1962-05-30 04:00:00|916-94-8252| 85176|\n|3766841|    Marta|      Joel|  Copelli|     F|1953-01-23 05:00:00|929-52-3074| 82347|\n|3766842|    Danae|   Darline|   Mithun|     F|1993-08-07 04:00:00|957-79-3027| 62469|\n|3766843|   Fredda|     Shawn|  Denness|     F|1956-06-03 04:00:00|946-20-3144| 92998|\n+-------+---------+----------+---------+------+-------------------+-----------+------+\nonly showing top 20 rows\n\n"
     ]
    }
   ],
   "source": [
    "dfpeople.show()"
   ]
  },
  {
   "cell_type": "code",
   "execution_count": 0,
   "metadata": {
    "application/vnd.databricks.v1+cell": {
     "cellMetadata": {
      "byteLimit": 2048000,
      "rowLimit": 10000
     },
     "inputWidgets": {},
     "nuid": "4d2de46f-addc-4bc4-83ad-657eb39ce18b",
     "showTitle": false,
     "title": ""
    }
   },
   "outputs": [],
   "source": [
    "save_path=\"/FileStore/tables/dbfolder\"\n",
    "dfpeople.write.format(\"csv\").option(\"header\",\"true\").partitionBy(\"gender\").mode(\"overwrite\").save(save_path)"
   ]
  },
  {
   "cell_type": "code",
   "execution_count": 0,
   "metadata": {
    "application/vnd.databricks.v1+cell": {
     "cellMetadata": {
      "byteLimit": 2048000,
      "rowLimit": 10000
     },
     "inputWidgets": {},
     "nuid": "3a572d4e-1f67-4013-bfe1-5090f6f4a8dd",
     "showTitle": false,
     "title": ""
    }
   },
   "outputs": [
    {
     "output_type": "display_data",
     "data": {
      "text/html": [
       "<style scoped>\n",
       "  .table-result-container {\n",
       "    max-height: 300px;\n",
       "    overflow: auto;\n",
       "  }\n",
       "  table, th, td {\n",
       "    border: 1px solid black;\n",
       "    border-collapse: collapse;\n",
       "  }\n",
       "  th, td {\n",
       "    padding: 5px;\n",
       "  }\n",
       "  th {\n",
       "    text-align: left;\n",
       "  }\n",
       "</style><div class='table-result-container'><table class='table-result'><thead style='background-color: white'><tr><th>path</th><th>name</th><th>size</th><th>modificationTime</th></tr></thead><tbody><tr><td>dbfs:/FileStore/tables/dbfolder/_SUCCESS</td><td>_SUCCESS</td><td>0</td><td>1695791476000</td></tr><tr><td>dbfs:/FileStore/tables/dbfolder/_committed_4513324644684770750</td><td>_committed_4513324644684770750</td><td>32</td><td>1695790578000</td></tr><tr><td>dbfs:/FileStore/tables/dbfolder/_committed_7709138476241237481</td><td>_committed_7709138476241237481</td><td>35</td><td>1695791476000</td></tr><tr><td>dbfs:/FileStore/tables/dbfolder/gender=F/</td><td>gender=F/</td><td>0</td><td>1695790566000</td></tr><tr><td>dbfs:/FileStore/tables/dbfolder/gender=M/</td><td>gender=M/</td><td>0</td><td>1695790566000</td></tr></tbody></table></div>"
      ]
     },
     "metadata": {
      "application/vnd.databricks.v1+output": {
       "addedWidgets": {},
       "aggData": [],
       "aggError": "",
       "aggOverflow": false,
       "aggSchema": [],
       "aggSeriesLimitReached": false,
       "aggType": "",
       "arguments": {},
       "columnCustomDisplayInfos": {},
       "data": [
        [
         "dbfs:/FileStore/tables/dbfolder/_SUCCESS",
         "_SUCCESS",
         0,
         1695791476000
        ],
        [
         "dbfs:/FileStore/tables/dbfolder/_committed_4513324644684770750",
         "_committed_4513324644684770750",
         32,
         1695790578000
        ],
        [
         "dbfs:/FileStore/tables/dbfolder/_committed_7709138476241237481",
         "_committed_7709138476241237481",
         35,
         1695791476000
        ],
        [
         "dbfs:/FileStore/tables/dbfolder/gender=F/",
         "gender=F/",
         0,
         1695790566000
        ],
        [
         "dbfs:/FileStore/tables/dbfolder/gender=M/",
         "gender=M/",
         0,
         1695790566000
        ]
       ],
       "datasetInfos": [],
       "dbfsResultPath": null,
       "isJsonSchema": true,
       "metadata": {
        "isDbfsCommandResult": false
       },
       "overflow": false,
       "plotOptions": {
        "customPlotOptions": {},
        "displayType": "table",
        "pivotAggregation": null,
        "pivotColumns": null,
        "xColumns": null,
        "yColumns": null
       },
       "removedWidgets": [],
       "schema": [
        {
         "metadata": "{}",
         "name": "path",
         "type": "\"string\""
        },
        {
         "metadata": "{}",
         "name": "name",
         "type": "\"string\""
        },
        {
         "metadata": "{}",
         "name": "size",
         "type": "\"long\""
        },
        {
         "metadata": "{}",
         "name": "modificationTime",
         "type": "\"long\""
        }
       ],
       "type": "table"
      }
     },
     "output_type": "display_data"
    }
   ],
   "source": [
    "%fs ls /FileStore/tables/dbfolder"
   ]
  },
  {
   "cell_type": "code",
   "execution_count": 0,
   "metadata": {
    "application/vnd.databricks.v1+cell": {
     "cellMetadata": {
      "byteLimit": 2048000,
      "rowLimit": 10000
     },
     "inputWidgets": {},
     "nuid": "34f9ac28-24f9-40ae-9854-9943b8151bd8",
     "showTitle": false,
     "title": ""
    }
   },
   "outputs": [
    {
     "output_type": "display_data",
     "data": {
      "text/html": [
       "<style scoped>\n",
       "  .table-result-container {\n",
       "    max-height: 300px;\n",
       "    overflow: auto;\n",
       "  }\n",
       "  table, th, td {\n",
       "    border: 1px solid black;\n",
       "    border-collapse: collapse;\n",
       "  }\n",
       "  th, td {\n",
       "    padding: 5px;\n",
       "  }\n",
       "  th {\n",
       "    text-align: left;\n",
       "  }\n",
       "</style><div class='table-result-container'><table class='table-result'><thead style='background-color: white'><tr><th>path</th><th>name</th><th>size</th><th>modificationTime</th></tr></thead><tbody><tr><td>dbfs:/FileStore/tables/dbfolder/_committed_4513324644684770750</td><td>_committed_4513324644684770750</td><td>32</td><td>1695790578000</td></tr></tbody></table></div>"
      ]
     },
     "metadata": {
      "application/vnd.databricks.v1+output": {
       "addedWidgets": {},
       "aggData": [],
       "aggError": "",
       "aggOverflow": false,
       "aggSchema": [],
       "aggSeriesLimitReached": false,
       "aggType": "",
       "arguments": {},
       "columnCustomDisplayInfos": {},
       "data": [
        [
         "dbfs:/FileStore/tables/dbfolder/_committed_4513324644684770750",
         "_committed_4513324644684770750",
         32,
         1695790578000
        ]
       ],
       "datasetInfos": [],
       "dbfsResultPath": null,
       "isJsonSchema": true,
       "metadata": {
        "isDbfsCommandResult": false
       },
       "overflow": false,
       "plotOptions": {
        "customPlotOptions": {},
        "displayType": "table",
        "pivotAggregation": null,
        "pivotColumns": null,
        "xColumns": null,
        "yColumns": null
       },
       "removedWidgets": [],
       "schema": [
        {
         "metadata": "{}",
         "name": "path",
         "type": "\"string\""
        },
        {
         "metadata": "{}",
         "name": "name",
         "type": "\"string\""
        },
        {
         "metadata": "{}",
         "name": "size",
         "type": "\"long\""
        },
        {
         "metadata": "{}",
         "name": "modificationTime",
         "type": "\"long\""
        }
       ],
       "type": "table"
      }
     },
     "output_type": "display_data"
    }
   ],
   "source": [
    "%fs ls dbfs:/FileStore/tables/dbfolder/_committed_4513324644684770750"
   ]
  },
  {
   "cell_type": "code",
   "execution_count": 0,
   "metadata": {
    "application/vnd.databricks.v1+cell": {
     "cellMetadata": {
      "byteLimit": 2048000,
      "rowLimit": 10000
     },
     "inputWidgets": {},
     "nuid": "2e27dc7c-4afa-4b54-a894-b584419e4f42",
     "showTitle": false,
     "title": ""
    }
   },
   "outputs": [
    {
     "output_type": "display_data",
     "data": {
      "text/html": [
       "<style scoped>\n",
       "  .table-result-container {\n",
       "    max-height: 300px;\n",
       "    overflow: auto;\n",
       "  }\n",
       "  table, th, td {\n",
       "    border: 1px solid black;\n",
       "    border-collapse: collapse;\n",
       "  }\n",
       "  th, td {\n",
       "    padding: 5px;\n",
       "  }\n",
       "  th {\n",
       "    text-align: left;\n",
       "  }\n",
       "</style><div class='table-result-container'><table class='table-result'><thead style='background-color: white'><tr><th>path</th><th>name</th><th>size</th><th>modificationTime</th></tr></thead><tbody><tr><td>dbfs:/FileStore/tables/dbfolder/gender=F/_SUCCESS</td><td>_SUCCESS</td><td>0</td><td>1695791476000</td></tr><tr><td>dbfs:/FileStore/tables/dbfolder/gender=F/_committed_4513324644684770750</td><td>_committed_4513324644684770750</td><td>288</td><td>1695790578000</td></tr><tr><td>dbfs:/FileStore/tables/dbfolder/gender=F/_committed_7709138476241237481</td><td>_committed_7709138476241237481</td><td>562</td><td>1695791476000</td></tr><tr><td>dbfs:/FileStore/tables/dbfolder/gender=F/_started_4513324644684770750</td><td>_started_4513324644684770750</td><td>0</td><td>1695790566000</td></tr><tr><td>dbfs:/FileStore/tables/dbfolder/gender=F/_started_7709138476241237481</td><td>_started_7709138476241237481</td><td>0</td><td>1695791465000</td></tr><tr><td>dbfs:/FileStore/tables/dbfolder/gender=F/part-00000-tid-7709138476241237481-6bce4ba8-b92c-419d-accc-57a84f49f861-63-1.c000.csv</td><td>part-00000-tid-7709138476241237481-6bce4ba8-b92c-419d-accc-57a84f49f861-63-1.c000.csv</td><td>182039469</td><td>1695791476000</td></tr><tr><td>dbfs:/FileStore/tables/dbfolder/gender=F/part-00001-tid-7709138476241237481-6bce4ba8-b92c-419d-accc-57a84f49f861-64-1.c000.csv</td><td>part-00001-tid-7709138476241237481-6bce4ba8-b92c-419d-accc-57a84f49f861-64-1.c000.csv</td><td>183021857</td><td>1695791475000</td></tr><tr><td>dbfs:/FileStore/tables/dbfolder/gender=F/part-00003-tid-7709138476241237481-6bce4ba8-b92c-419d-accc-57a84f49f861-66-1.c000.csv</td><td>part-00003-tid-7709138476241237481-6bce4ba8-b92c-419d-accc-57a84f49f861-66-1.c000.csv</td><td>13717686</td><td>1695791467000</td></tr></tbody></table></div>"
      ]
     },
     "metadata": {
      "application/vnd.databricks.v1+output": {
       "addedWidgets": {},
       "aggData": [],
       "aggError": "",
       "aggOverflow": false,
       "aggSchema": [],
       "aggSeriesLimitReached": false,
       "aggType": "",
       "arguments": {},
       "columnCustomDisplayInfos": {},
       "data": [
        [
         "dbfs:/FileStore/tables/dbfolder/gender=F/_SUCCESS",
         "_SUCCESS",
         0,
         1695791476000
        ],
        [
         "dbfs:/FileStore/tables/dbfolder/gender=F/_committed_4513324644684770750",
         "_committed_4513324644684770750",
         288,
         1695790578000
        ],
        [
         "dbfs:/FileStore/tables/dbfolder/gender=F/_committed_7709138476241237481",
         "_committed_7709138476241237481",
         562,
         1695791476000
        ],
        [
         "dbfs:/FileStore/tables/dbfolder/gender=F/_started_4513324644684770750",
         "_started_4513324644684770750",
         0,
         1695790566000
        ],
        [
         "dbfs:/FileStore/tables/dbfolder/gender=F/_started_7709138476241237481",
         "_started_7709138476241237481",
         0,
         1695791465000
        ],
        [
         "dbfs:/FileStore/tables/dbfolder/gender=F/part-00000-tid-7709138476241237481-6bce4ba8-b92c-419d-accc-57a84f49f861-63-1.c000.csv",
         "part-00000-tid-7709138476241237481-6bce4ba8-b92c-419d-accc-57a84f49f861-63-1.c000.csv",
         182039469,
         1695791476000
        ],
        [
         "dbfs:/FileStore/tables/dbfolder/gender=F/part-00001-tid-7709138476241237481-6bce4ba8-b92c-419d-accc-57a84f49f861-64-1.c000.csv",
         "part-00001-tid-7709138476241237481-6bce4ba8-b92c-419d-accc-57a84f49f861-64-1.c000.csv",
         183021857,
         1695791475000
        ],
        [
         "dbfs:/FileStore/tables/dbfolder/gender=F/part-00003-tid-7709138476241237481-6bce4ba8-b92c-419d-accc-57a84f49f861-66-1.c000.csv",
         "part-00003-tid-7709138476241237481-6bce4ba8-b92c-419d-accc-57a84f49f861-66-1.c000.csv",
         13717686,
         1695791467000
        ]
       ],
       "datasetInfos": [],
       "dbfsResultPath": null,
       "isJsonSchema": true,
       "metadata": {
        "isDbfsCommandResult": false
       },
       "overflow": false,
       "plotOptions": {
        "customPlotOptions": {},
        "displayType": "table",
        "pivotAggregation": null,
        "pivotColumns": null,
        "xColumns": null,
        "yColumns": null
       },
       "removedWidgets": [],
       "schema": [
        {
         "metadata": "{}",
         "name": "path",
         "type": "\"string\""
        },
        {
         "metadata": "{}",
         "name": "name",
         "type": "\"string\""
        },
        {
         "metadata": "{}",
         "name": "size",
         "type": "\"long\""
        },
        {
         "metadata": "{}",
         "name": "modificationTime",
         "type": "\"long\""
        }
       ],
       "type": "table"
      }
     },
     "output_type": "display_data"
    }
   ],
   "source": [
    "%fs ls dbfs:/FileStore/tables/dbfolder/gender=F/\n"
   ]
  },
  {
   "cell_type": "code",
   "execution_count": 0,
   "metadata": {
    "application/vnd.databricks.v1+cell": {
     "cellMetadata": {
      "byteLimit": 2048000,
      "rowLimit": 10000
     },
     "inputWidgets": {},
     "nuid": "36163964-11a1-4f53-b2f0-566972d50f11",
     "showTitle": false,
     "title": ""
    }
   },
   "outputs": [
    {
     "output_type": "display_data",
     "data": {
      "text/html": [
       "<style scoped>\n",
       "  .table-result-container {\n",
       "    max-height: 300px;\n",
       "    overflow: auto;\n",
       "  }\n",
       "  table, th, td {\n",
       "    border: 1px solid black;\n",
       "    border-collapse: collapse;\n",
       "  }\n",
       "  th, td {\n",
       "    padding: 5px;\n",
       "  }\n",
       "  th {\n",
       "    text-align: left;\n",
       "  }\n",
       "</style><div class='table-result-container'><table class='table-result'><thead style='background-color: white'><tr><th>path</th><th>name</th><th>size</th><th>modificationTime</th></tr></thead><tbody><tr><td>dbfs:/FileStore/tables/dbfolder/gender=F/_SUCCESS</td><td>_SUCCESS</td><td>0</td><td>1695790578000</td></tr></tbody></table></div>"
      ]
     },
     "metadata": {
      "application/vnd.databricks.v1+output": {
       "addedWidgets": {},
       "aggData": [],
       "aggError": "",
       "aggOverflow": false,
       "aggSchema": [],
       "aggSeriesLimitReached": false,
       "aggType": "",
       "arguments": {},
       "columnCustomDisplayInfos": {},
       "data": [
        [
         "dbfs:/FileStore/tables/dbfolder/gender=F/_SUCCESS",
         "_SUCCESS",
         0,
         1695790578000
        ]
       ],
       "datasetInfos": [],
       "dbfsResultPath": null,
       "isJsonSchema": true,
       "metadata": {
        "isDbfsCommandResult": false
       },
       "overflow": false,
       "plotOptions": {
        "customPlotOptions": {},
        "displayType": "table",
        "pivotAggregation": null,
        "pivotColumns": null,
        "xColumns": null,
        "yColumns": null
       },
       "removedWidgets": [],
       "schema": [
        {
         "metadata": "{}",
         "name": "path",
         "type": "\"string\""
        },
        {
         "metadata": "{}",
         "name": "name",
         "type": "\"string\""
        },
        {
         "metadata": "{}",
         "name": "size",
         "type": "\"long\""
        },
        {
         "metadata": "{}",
         "name": "modificationTime",
         "type": "\"long\""
        }
       ],
       "type": "table"
      }
     },
     "output_type": "display_data"
    }
   ],
   "source": []
  },
  {
   "cell_type": "code",
   "execution_count": 0,
   "metadata": {
    "application/vnd.databricks.v1+cell": {
     "cellMetadata": {
      "byteLimit": 2048000,
      "rowLimit": 10000
     },
     "inputWidgets": {},
     "nuid": "c7867d0d-b015-47b2-ae0a-216ac2ac99c6",
     "showTitle": false,
     "title": ""
    }
   },
   "outputs": [],
   "source": [
    "partitionf=spark.read.csv(\"dbfs:/FileStore/tables/dbfolder/gender=F/part-00000-tid-4513324644684770750-1f8c6ae0-b514-4122-815d-64b2128673d2-53-1.c000.csv\",header=True,inferSchema=True)"
   ]
  },
  {
   "cell_type": "code",
   "execution_count": 0,
   "metadata": {
    "application/vnd.databricks.v1+cell": {
     "cellMetadata": {
      "byteLimit": 2048000,
      "rowLimit": 10000
     },
     "inputWidgets": {},
     "nuid": "37128030-bb52-4129-89e0-3faf9e304614",
     "showTitle": false,
     "title": ""
    }
   },
   "outputs": [
    {
     "output_type": "stream",
     "name": "stdout",
     "output_type": "stream",
     "text": [
      "+---+----------+----------+-------------+------------------------+-----------+------+\n|  1|    Pennie|     Carry|   Hirschmann|1955-07-02T04:00:00.000Z|981-43-9345| 56172|\n+---+----------+----------+-------------+------------------------+-----------+------+\n|  2|        An|     Amira|       Cowper|     1992-02-08 05:00:00|978-97-8086| 40203|\n|  3|     Quyen|    Marlen|         Dome|     1970-10-11 04:00:00|957-57-8246| 53417|\n|  4|   Coralie|  Antonina|      Marshal|     1990-04-11 04:00:00|963-39-4885| 94727|\n|  5|    Terrie|      Wava|        Bonar|     1980-01-16 05:00:00|964-49-8051| 79908|\n|  6|  Chassidy|Concepcion|Bourthouloume|     1990-11-24 05:00:00|954-59-9172| 64652|\n|  7|      Geri|    Tambra|        Mosby|     1970-12-19 05:00:00|968-16-4020| 38195|\n|  8|    Patria|     Nancy|      Arstall|     1985-01-02 05:00:00|984-76-3770|102053|\n|  9|    Terese|  Alfredia|       Tocque|     1967-11-17 05:00:00|967-48-7309| 91294|\n| 10|      Wava|   Lyndsey|      Jeandon|     1963-12-30 05:00:00|997-82-2946| 56521|\n| 11|    Sophie|   Emerita|        Hearn|     1979-09-17 04:00:00|977-66-4483| 90920|\n| 12|     Jodie|   Tabetha|      Laneham|     1959-01-31 05:00:00|923-24-9769| 90634|\n| 13|  Marietta|     Mandi|      Yansons|     1974-02-19 04:00:00|900-34-8083| 93162|\n| 14|   Caridad|     Maire|       Snelle|     1960-09-26 04:00:00|992-11-7062| 38859|\n| 15|   Yasmine|       Meg|    Edworthye|     1960-01-29 05:00:00|922-12-9862| 76220|\n| 16|      Chan|      Jani|       Hartas|     1986-12-05 05:00:00|995-51-3115| 75050|\n| 17|Evangeline|   Wanetta|    Casserley|     1961-09-29 04:00:00|926-61-3526| 62814|\n| 18|    Elnora|     Kecia|       Lipman|     1980-02-14 05:00:00|950-23-9739| 71350|\n| 19|    Adelle|   Kathyrn|    Grigoriev|     1978-11-14 05:00:00|923-23-5984| 60600|\n| 20|      Mica|    Zandra|     Challens|     1973-11-24 05:00:00|918-66-1232| 51071|\n| 21|     Sarah|    Nickie|     Sadgrove|     1990-11-07 05:00:00|913-18-2717|101046|\n+---+----------+----------+-------------+------------------------+-----------+------+\nonly showing top 20 rows\n\n"
     ]
    }
   ],
   "source": [
    "partitionf.show()"
   ]
  },
  {
   "cell_type": "code",
   "execution_count": 0,
   "metadata": {
    "application/vnd.databricks.v1+cell": {
     "cellMetadata": {},
     "inputWidgets": {},
     "nuid": "edc1e8d3-6a40-4cf3-9632-7694b5982e20",
     "showTitle": false,
     "title": ""
    }
   },
   "outputs": [],
   "source": [
    "from pyspark.sql.functions import rand\n",
    "spark.conf.set(\"spark.sql.shuffle.partitions\",\"1\")"
   ]
  }
 ],
 "metadata": {
  "application/vnd.databricks.v1+notebook": {
   "dashboards": [],
   "language": "python",
   "notebookMetadata": {
    "mostRecentlyExecutedCommandWithImplicitDF": {
     "commandId": 2961462340993375,
     "dataframes": [
      "_sqldf"
     ]
    },
    "pythonIndentUnit": 4
   },
   "notebookName": "db2 2023-09-27 09:32:15",
   "widgets": {}
  }
 },
 "nbformat": 4,
 "nbformat_minor": 0
}
